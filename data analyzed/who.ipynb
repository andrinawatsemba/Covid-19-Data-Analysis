{
 "cells": [
  {
   "cell_type": "code",
   "execution_count": 1,
   "metadata": {},
   "outputs": [],
   "source": [
    "import pandas as pd\n",
    "import numpy as np\n",
    "import seaborn as sns\n"
   ]
  },
  {
   "cell_type": "code",
   "execution_count": 2,
   "metadata": {},
   "outputs": [
    {
     "data": {
      "text/html": [
       "<div>\n",
       "<style scoped>\n",
       "    .dataframe tbody tr th:only-of-type {\n",
       "        vertical-align: middle;\n",
       "    }\n",
       "\n",
       "    .dataframe tbody tr th {\n",
       "        vertical-align: top;\n",
       "    }\n",
       "\n",
       "    .dataframe thead th {\n",
       "        text-align: right;\n",
       "    }\n",
       "</style>\n",
       "<table border=\"1\" class=\"dataframe\">\n",
       "  <thead>\n",
       "    <tr style=\"text-align: right;\">\n",
       "      <th></th>\n",
       "      <th>Date_reported</th>\n",
       "      <th>Country_code</th>\n",
       "      <th>Country</th>\n",
       "      <th>WHO_region</th>\n",
       "      <th>New_cases</th>\n",
       "      <th>Cumulative_cases</th>\n",
       "      <th>New_deaths</th>\n",
       "      <th>Cumulative_deaths</th>\n",
       "    </tr>\n",
       "  </thead>\n",
       "  <tbody>\n",
       "    <tr>\n",
       "      <th>0</th>\n",
       "      <td>2020-01-04</td>\n",
       "      <td>AI</td>\n",
       "      <td>Anguilla</td>\n",
       "      <td>AMR</td>\n",
       "      <td>NaN</td>\n",
       "      <td>0</td>\n",
       "      <td>NaN</td>\n",
       "      <td>0</td>\n",
       "    </tr>\n",
       "    <tr>\n",
       "      <th>1</th>\n",
       "      <td>2020-01-04</td>\n",
       "      <td>AZ</td>\n",
       "      <td>Azerbaijan</td>\n",
       "      <td>EUR</td>\n",
       "      <td>NaN</td>\n",
       "      <td>0</td>\n",
       "      <td>NaN</td>\n",
       "      <td>0</td>\n",
       "    </tr>\n",
       "    <tr>\n",
       "      <th>2</th>\n",
       "      <td>2020-01-04</td>\n",
       "      <td>BD</td>\n",
       "      <td>Bangladesh</td>\n",
       "      <td>SEAR</td>\n",
       "      <td>0.0</td>\n",
       "      <td>0</td>\n",
       "      <td>0.0</td>\n",
       "      <td>0</td>\n",
       "    </tr>\n",
       "    <tr>\n",
       "      <th>3</th>\n",
       "      <td>2020-01-04</td>\n",
       "      <td>BB</td>\n",
       "      <td>Barbados</td>\n",
       "      <td>AMR</td>\n",
       "      <td>NaN</td>\n",
       "      <td>0</td>\n",
       "      <td>NaN</td>\n",
       "      <td>0</td>\n",
       "    </tr>\n",
       "    <tr>\n",
       "      <th>4</th>\n",
       "      <td>2020-01-04</td>\n",
       "      <td>BR</td>\n",
       "      <td>Brazil</td>\n",
       "      <td>AMR</td>\n",
       "      <td>NaN</td>\n",
       "      <td>0</td>\n",
       "      <td>NaN</td>\n",
       "      <td>0</td>\n",
       "    </tr>\n",
       "    <tr>\n",
       "      <th>...</th>\n",
       "      <td>...</td>\n",
       "      <td>...</td>\n",
       "      <td>...</td>\n",
       "      <td>...</td>\n",
       "      <td>...</td>\n",
       "      <td>...</td>\n",
       "      <td>...</td>\n",
       "      <td>...</td>\n",
       "    </tr>\n",
       "    <tr>\n",
       "      <th>447355</th>\n",
       "      <td>2025-02-09</td>\n",
       "      <td>TJ</td>\n",
       "      <td>Tajikistan</td>\n",
       "      <td>EUR</td>\n",
       "      <td>NaN</td>\n",
       "      <td>17786</td>\n",
       "      <td>NaN</td>\n",
       "      <td>125</td>\n",
       "    </tr>\n",
       "    <tr>\n",
       "      <th>447356</th>\n",
       "      <td>2025-02-09</td>\n",
       "      <td>SY</td>\n",
       "      <td>Syrian Arab Republic</td>\n",
       "      <td>EMR</td>\n",
       "      <td>NaN</td>\n",
       "      <td>57423</td>\n",
       "      <td>NaN</td>\n",
       "      <td>3163</td>\n",
       "    </tr>\n",
       "    <tr>\n",
       "      <th>447357</th>\n",
       "      <td>2025-02-09</td>\n",
       "      <td>LK</td>\n",
       "      <td>Sri Lanka</td>\n",
       "      <td>SEAR</td>\n",
       "      <td>NaN</td>\n",
       "      <td>672812</td>\n",
       "      <td>NaN</td>\n",
       "      <td>16907</td>\n",
       "    </tr>\n",
       "    <tr>\n",
       "      <th>447358</th>\n",
       "      <td>2025-02-09</td>\n",
       "      <td>SN</td>\n",
       "      <td>Senegal</td>\n",
       "      <td>AFR</td>\n",
       "      <td>NaN</td>\n",
       "      <td>89321</td>\n",
       "      <td>NaN</td>\n",
       "      <td>1972</td>\n",
       "    </tr>\n",
       "    <tr>\n",
       "      <th>447359</th>\n",
       "      <td>2025-02-09</td>\n",
       "      <td>SB</td>\n",
       "      <td>Solomon Islands</td>\n",
       "      <td>WPR</td>\n",
       "      <td>NaN</td>\n",
       "      <td>25954</td>\n",
       "      <td>NaN</td>\n",
       "      <td>199</td>\n",
       "    </tr>\n",
       "  </tbody>\n",
       "</table>\n",
       "<p>447360 rows × 8 columns</p>\n",
       "</div>"
      ],
      "text/plain": [
       "       Date_reported Country_code               Country WHO_region  New_cases  \\\n",
       "0         2020-01-04           AI              Anguilla        AMR        NaN   \n",
       "1         2020-01-04           AZ            Azerbaijan        EUR        NaN   \n",
       "2         2020-01-04           BD            Bangladesh       SEAR        0.0   \n",
       "3         2020-01-04           BB              Barbados        AMR        NaN   \n",
       "4         2020-01-04           BR                Brazil        AMR        NaN   \n",
       "...              ...          ...                   ...        ...        ...   \n",
       "447355    2025-02-09           TJ            Tajikistan        EUR        NaN   \n",
       "447356    2025-02-09           SY  Syrian Arab Republic        EMR        NaN   \n",
       "447357    2025-02-09           LK             Sri Lanka       SEAR        NaN   \n",
       "447358    2025-02-09           SN               Senegal        AFR        NaN   \n",
       "447359    2025-02-09           SB       Solomon Islands        WPR        NaN   \n",
       "\n",
       "        Cumulative_cases  New_deaths  Cumulative_deaths  \n",
       "0                      0         NaN                  0  \n",
       "1                      0         NaN                  0  \n",
       "2                      0         0.0                  0  \n",
       "3                      0         NaN                  0  \n",
       "4                      0         NaN                  0  \n",
       "...                  ...         ...                ...  \n",
       "447355             17786         NaN                125  \n",
       "447356             57423         NaN               3163  \n",
       "447357            672812         NaN              16907  \n",
       "447358             89321         NaN               1972  \n",
       "447359             25954         NaN                199  \n",
       "\n",
       "[447360 rows x 8 columns]"
      ]
     },
     "execution_count": 2,
     "metadata": {},
     "output_type": "execute_result"
    }
   ],
   "source": [
    "data = pd.read_csv(\"WHO-COVID-19-global-daily-data.csv\")\n",
    "data"
   ]
  },
  {
   "cell_type": "code",
   "execution_count": 3,
   "metadata": {},
   "outputs": [
    {
     "name": "stdout",
     "output_type": "stream",
     "text": [
      "<class 'pandas.core.frame.DataFrame'>\n",
      "RangeIndex: 447360 entries, 0 to 447359\n",
      "Data columns (total 8 columns):\n",
      " #   Column             Non-Null Count   Dtype  \n",
      "---  ------             --------------   -----  \n",
      " 0   Date_reported      447360 non-null  object \n",
      " 1   Country_code       445496 non-null  object \n",
      " 2   Country            447360 non-null  object \n",
      " 3   WHO_region         447360 non-null  object \n",
      " 4   New_cases          208549 non-null  float64\n",
      " 5   Cumulative_cases   447360 non-null  int64  \n",
      " 6   New_deaths         209492 non-null  float64\n",
      " 7   Cumulative_deaths  447360 non-null  int64  \n",
      "dtypes: float64(2), int64(2), object(4)\n",
      "memory usage: 27.3+ MB\n",
      "None\n"
     ]
    }
   ],
   "source": [
    "print(data.info())"
   ]
  },
  {
   "cell_type": "code",
   "execution_count": 4,
   "metadata": {},
   "outputs": [
    {
     "name": "stdout",
     "output_type": "stream",
     "text": [
      "       Date_reported Country_code   Country WHO_region     New_cases  \\\n",
      "count         447360       445496    447360     447360  2.085490e+05   \n",
      "unique          1864          239       240          7           NaN   \n",
      "top       2025-02-09           AI  Anguilla        EUR           NaN   \n",
      "freq             240         1864      1864     115568           NaN   \n",
      "mean             NaN          NaN       NaN        NaN  3.727591e+03   \n",
      "std              NaN          NaN       NaN        NaN  4.877001e+04   \n",
      "min              NaN          NaN       NaN        NaN -6.507900e+04   \n",
      "25%              NaN          NaN       NaN        NaN  3.000000e+00   \n",
      "50%              NaN          NaN       NaN        NaN  6.100000e+01   \n",
      "75%              NaN          NaN       NaN        NaN  6.860000e+02   \n",
      "max              NaN          NaN       NaN        NaN  6.966046e+06   \n",
      "\n",
      "        Cumulative_cases     New_deaths  Cumulative_deaths  \n",
      "count       4.473600e+05  209492.000000       4.473600e+05  \n",
      "unique               NaN            NaN                NaN  \n",
      "top                  NaN            NaN                NaN  \n",
      "freq                 NaN            NaN                NaN  \n",
      "mean        1.932190e+06      33.837841       2.093561e+04  \n",
      "std         8.207983e+06     208.726492       8.460992e+04  \n",
      "min         0.000000e+00   -3520.000000       0.000000e+00  \n",
      "25%         5.516000e+03       0.000000       3.500000e+01  \n",
      "50%         5.216400e+04       0.000000       6.670000e+02  \n",
      "75%         6.122098e+05       7.000000       7.572000e+03  \n",
      "max         1.034368e+08   44047.000000       1.216819e+06  \n"
     ]
    }
   ],
   "source": [
    "# Summary statistics\n",
    "print(data.describe(include='all'))"
   ]
  },
  {
   "cell_type": "code",
   "execution_count": 5,
   "metadata": {},
   "outputs": [
    {
     "name": "stdout",
     "output_type": "stream",
     "text": [
      "Date_reported             0\n",
      "Country_code           1864\n",
      "Country                   0\n",
      "WHO_region                0\n",
      "New_cases            238811\n",
      "Cumulative_cases          0\n",
      "New_deaths           237868\n",
      "Cumulative_deaths         0\n",
      "dtype: int64\n"
     ]
    }
   ],
   "source": [
    "# Count missing values in each column\n",
    "print(data.isnull().sum())"
   ]
  },
  {
   "cell_type": "code",
   "execution_count": null,
   "metadata": {},
   "outputs": [],
   "source": [
    "# Drop rows where Country_code is missing\n",
    "data = data.dropna(subset=[\"Country_code\"])"
   ]
  },
  {
   "cell_type": "code",
   "execution_count": null,
   "metadata": {},
   "outputs": [],
   "source": [
    "\n",
    "# Fill missing values for New_cases and New_deaths with 0\n",
    "data = data.copy()  # Ensure it's a copy before modification\n",
    "data[\"New_cases\"] = data[\"New_cases\"].fillna(0)\n",
    "data[\"New_deaths\"] = data[\"New_deaths\"].fillna(0)\n"
   ]
  },
  {
   "cell_type": "code",
   "execution_count": 13,
   "metadata": {},
   "outputs": [
    {
     "name": "stdout",
     "output_type": "stream",
     "text": [
      "Date_reported        0\n",
      "Country_code         0\n",
      "Country              0\n",
      "WHO_region           0\n",
      "New_cases            0\n",
      "Cumulative_cases     0\n",
      "New_deaths           0\n",
      "Cumulative_deaths    0\n",
      "dtype: int64\n"
     ]
    }
   ],
   "source": [
    "# Verify that missing values are handled\n",
    "print(data.isnull().sum())"
   ]
  }
 ],
 "metadata": {
  "kernelspec": {
   "display_name": "Python 3",
   "language": "python",
   "name": "python3"
  },
  "language_info": {
   "codemirror_mode": {
    "name": "ipython",
    "version": 3
   },
   "file_extension": ".py",
   "mimetype": "text/x-python",
   "name": "python",
   "nbconvert_exporter": "python",
   "pygments_lexer": "ipython3",
   "version": "3.12.7"
  }
 },
 "nbformat": 4,
 "nbformat_minor": 2
}
